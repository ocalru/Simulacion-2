{
  "nbformat": 4,
  "nbformat_minor": 0,
  "metadata": {
    "colab": {
      "provenance": [],
      "authorship_tag": "ABX9TyNKlXeuzsJHTKryZc0dXjAE",
      "include_colab_link": true
    },
    "kernelspec": {
      "name": "python3",
      "display_name": "Python 3"
    },
    "language_info": {
      "name": "python"
    }
  },
  "cells": [
    {
      "cell_type": "markdown",
      "metadata": {
        "id": "view-in-github",
        "colab_type": "text"
      },
      "source": [
        "<a href=\"https://colab.research.google.com/github/ocalru/Simulacion-2/blob/main/Bondad_de_ajuste_.ipynb\" target=\"_parent\"><img src=\"https://colab.research.google.com/assets/colab-badge.svg\" alt=\"Open In Colab\"/></a>"
      ]
    },
    {
      "cell_type": "markdown",
      "source": [
        "- Se uso la prueba de  Kolmogorov-Smirnov para probar si el arreglo proviene de una distrbucion normal.\n",
        "- Se uso una significancia de 0.5 ($ \\alpha = 0.5 $).\n"
      ],
      "metadata": {
        "id": "agyZluLQMAX7"
      }
    },
    {
      "cell_type": "code",
      "source": [
        "import numpy as np\n",
        "from scipy import stats\n",
        "\n",
        "# Datos\n",
        "data = [\n",
        "    87.59, 21.44, 63.25, 38.02, 35.23, 28.12, 56.67, 52.19, 31.18, 30.26,\n",
        "    50.40, 85.52, 41.51, 63.81, 66.29, 48.86, 60.52, 75.78, 35.54, 40.97,\n",
        "    90.16, 59.53, 60.73, 58.04, 74.23, 74.86, 75.99, 43.30, 48.32, 81.31,\n",
        "    72.15, 106.92, 53.64, 68.85, 81.43, 68.56, 44.38, 17.86, 39.51, 87.89,\n",
        "    51.77, 45.64, 50.61, 60.74, 71.22, 85.95, 26.26, 84.91, 43.72, 85.65\n",
        "]\n",
        "\n",
        "# Convertir a numpy array\n",
        "data = np.array(data)\n",
        "\n",
        "# Normalizar los datos a media y desviación estándar estimadas\n",
        "mean = np.mean(data)\n",
        "std = np.std(data)\n",
        "\n",
        "# Prueba KS contra una distribución normal teórica con la misma media y desviación estándar\n",
        "statistic, p_value = stats.kstest(data, 'norm', args=(mean, std))\n",
        "\n",
        "print(\"Estadístico KS:\", statistic)\n",
        "print(\"Valor p:\", p_value)\n",
        "\n",
        "# Prueba de hipotesis\n",
        "alpha = 0.05\n",
        "if p_value > alpha:\n",
        "    print(\"Los datos parecen provenir de una distribución normal\")\n",
        "else:\n",
        "    print(\"Los datos no parecen provenir de una distribución normal (se rechaza H0)\")\n"
      ],
      "metadata": {
        "colab": {
          "base_uri": "https://localhost:8080/"
        },
        "id": "IJD1ABpiKf4U",
        "outputId": "84ca827b-7bfa-405d-8e3c-264c0e07b74b"
      },
      "execution_count": null,
      "outputs": [
        {
          "output_type": "stream",
          "name": "stdout",
          "text": [
            "Estadístico KS: 0.06638295882341572\n",
            "Valor p: 0.9697775506317566\n",
            "Los datos parecen provenir de una distribución normal (no se rechaza H0)\n"
          ]
        }
      ]
    }
  ]
}